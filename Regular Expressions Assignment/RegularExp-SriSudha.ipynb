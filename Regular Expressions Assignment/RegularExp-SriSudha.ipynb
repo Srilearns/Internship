{
 "cells": [
  {
   "cell_type": "code",
   "execution_count": 49,
   "id": "9beaaff9-efc6-4078-ae27-949af875df7b",
   "metadata": {},
   "outputs": [
    {
     "name": "stdout",
     "output_type": "stream",
     "text": [
      "Python:Exercises::PHP:exercises:\n"
     ]
    }
   ],
   "source": [
    "#Question 1- Write a Python program to replace all occurrences of a space, comma, or dot with a colon.\n",
    "import re\n",
    "def replace_with_colon(text):\n",
    "    return re.sub(r'[ ,.]', ':', text)\n",
    "sample_text = 'Python Exercises, PHP exercises.'\n",
    "output = replace_with_colon(sample_text)\n",
    "print(output)"
   ]
  },
  {
   "cell_type": "code",
   "execution_count": 8,
   "id": "f6796678-e2e4-451c-a5e2-34a548ab8978",
   "metadata": {},
   "outputs": [
    {
     "name": "stdout",
     "output_type": "stream",
     "text": [
      "            SUMMARY\n",
      "0       hello world\n",
      "1        XXXXX test\n",
      "2  123four five six\n"
     ]
    }
   ],
   "source": [
    "#Question 2-  Create a dataframe using the dictionary below and remove everything (commas (,), !, XXXX, ;, etc.) from the columns except words.\n",
    "import pandas as pd\n",
    "import re\n",
    "\n",
    "data = {'SUMMARY': ['hello world!', 'XXXXX test', '123four five:; six...']}\n",
    "df = pd.DataFrame(data)\n",
    "\n",
    "df['SUMMARY'] = df['SUMMARY'].apply(lambda x: ' '.join(re.findall(r'\\b\\w+\\b', x)))\n",
    "print(df)"
   ]
  },
  {
   "cell_type": "code",
   "execution_count": 12,
   "id": "ca456ae0-3dbe-4482-a9af-afe9a8001410",
   "metadata": {},
   "outputs": [
    {
     "name": "stdout",
     "output_type": "stream",
     "text": [
      "['This', 'test', 'text', 'with', 'some', 'longwords']\n"
     ]
    }
   ],
   "source": [
    "#Question 3- Create a function in python to find all words that are at least 4 characters long in a string. The use of the re.compile() method is mandatory.\n",
    "import re\n",
    "\n",
    "def find_words(text) :\n",
    "    pattern = re.compile(r'\\b\\w{4,}\\b')\n",
    "    return pattern.findall(text)\n",
    "\n",
    "sample_text = 'This is a test text with some longwords'\n",
    "output = find_words(sample_text)\n",
    "print(output)"
   ]
  },
  {
   "cell_type": "code",
   "execution_count": 14,
   "id": "3a5d5115-a936-469b-b641-d9d5c2ee3755",
   "metadata": {},
   "outputs": [
    {
     "name": "stdout",
     "output_type": "stream",
     "text": [
      "['This', 'test', 'text', 'with', 'some', 'three']\n"
     ]
    }
   ],
   "source": [
    "#Question 4- Create a function in python to find all three, four, and five character words in a string. The use of the re.compile() method is mandatory.\n",
    "import re\n",
    "\n",
    "def find_words(text):\n",
    "    pattern = re.compile(r'\\b\\w{3,5}\\b')\n",
    "    return pattern.findall(text)\n",
    "\n",
    "sample_text = 'This is a test text with some three longwords'\n",
    "output = find_words(sample_text)\n",
    "print(output)"
   ]
  },
  {
   "cell_type": "code",
   "execution_count": 75,
   "id": "d17f5e8f-fa90-4938-9245-bdbf05cd858f",
   "metadata": {},
   "outputs": [
    {
     "name": "stdout",
     "output_type": "stream",
     "text": [
      "example .com\n",
      "hr@fliprobo .com\n",
      "github .com\n",
      "Hello Data Science World\n",
      "Data Scientist\n"
     ]
    }
   ],
   "source": [
    "#Question 5- Remove the parenthesis in a list of strings.\n",
    "import re\n",
    "\n",
    "def remove_parenthesis(lst):\n",
    "    pattern = re.compile(r'\\(\\s*(.*?)\\s*\\)')\n",
    "\n",
    "    def replacer(match):\n",
    "        content = match.group(1).strip()\n",
    "        return content\n",
    "    \n",
    "    return [pattern.sub(replacer, item) for item in lst]\n",
    "\n",
    "sample_list = [\"example (.com)\", \"hr@fliprobo (.com)\", \"github (.com)\", \"Hello (Data Science World)\", \"Data (Scientist)\"]\n",
    "\n",
    "output = remove_parenthesis(sample_list)\n",
    "\n",
    "for line in output:\n",
    "    print(line)"
   ]
  },
  {
   "cell_type": "code",
   "execution_count": 97,
   "id": "b78bdcb5-952e-416b-8858-bba45a74452b",
   "metadata": {},
   "outputs": [
    {
     "name": "stdout",
     "output_type": "stream",
     "text": [
      "['example ', 'hr@fliprobo ', 'github ', 'Hello ', 'Data ']\n"
     ]
    }
   ],
   "source": [
    "#Question 6- Write a python program to remove the parenthesis area from the text stored in the text file using Regular Expression.\n",
    "import re\n",
    "\n",
    "def remove_parentheses_area(file_path):\n",
    "\n",
    "    with open(file_path, 'r') as file:\n",
    "        text = file.read()\n",
    "\n",
    "    pattern = r'\\s*\\(.*?\\)\\s*'\n",
    "\n",
    "    cleaned_text = re.sub(pattern,' ',text)\n",
    "\n",
    "    cleaned_list = eval(cleaned_text)\n",
    "\n",
    "    print(cleaned_list)\n",
    "\n",
    "file_path = 'sample_txt.txt'\n",
    "\n",
    "remove_parentheses_area(file_path)"
   ]
  },
  {
   "cell_type": "code",
   "execution_count": 101,
   "id": "ec99400e-b5ee-4eeb-b341-b6891364d9e2",
   "metadata": {},
   "outputs": [
    {
     "name": "stdout",
     "output_type": "stream",
     "text": [
      "['Importance', 'Of', 'Regular', 'Expressions', 'In', 'Python']\n"
     ]
    }
   ],
   "source": [
    "#Question 7- Write a regular expression in Python to split a string into uppercase letters.\n",
    "import re\n",
    "\n",
    "def split_on_uppercase(text):\n",
    "    split_text = re.findall(r'[A-Z][^A-Z]*', text)\n",
    "    return split_text\n",
    "\n",
    "text = \"ImportanceOfRegularExpressionsInPython\"\n",
    "\n",
    "result = split_on_uppercase(text)\n",
    "\n",
    "print(result)"
   ]
  },
  {
   "cell_type": "code",
   "execution_count": 103,
   "id": "45748a96-0107-4eaf-9c29-c7669b95b9cf",
   "metadata": {},
   "outputs": [
    {
     "name": "stdout",
     "output_type": "stream",
     "text": [
      "RegularExpression 1IsAn 2ImportantTopic 3InPython\n"
     ]
    }
   ],
   "source": [
    "#Question 8- Create a function in python to insert spaces between words starting with numbers.\n",
    "import re\n",
    "\n",
    "def insert_spaces_before_numbers(text):\n",
    "    spaced_text = re.sub(r'(\\d)', r' \\1', text)\n",
    "    return spaced_text\n",
    "\n",
    "text = \"RegularExpression1IsAn2ImportantTopic3InPython\"\n",
    "\n",
    "result = insert_spaces_before_numbers(text)\n",
    "\n",
    "print(result)"
   ]
  },
  {
   "cell_type": "code",
   "execution_count": 27,
   "id": "a859279d-3021-4f17-b775-2ece1928be47",
   "metadata": {},
   "outputs": [
    {
     "name": "stdout",
     "output_type": "stream",
     "text": [
      "Regular Expression 1 Is An 2 Important Topic 3 In Python\n"
     ]
    }
   ],
   "source": [
    "#Question 9- Create a function in python to insert spaces between words starting with capital letters or with numbers.\n",
    "import re\n",
    "\n",
    "def insert_spaces(text):\n",
    "    text_with_spaces = re.sub(r'(\\d)', r' \\1', text)\n",
    "    final_text = re.sub(r'(?<=[a-z0-9])(?=[A-Z0-9])', r' ', text_with_spaces)\n",
    "    return final_text\n",
    "\n",
    "text = \"RegularExpression1IsAn2ImportantTopic3InPython\"\n",
    "\n",
    "result = insert_spaces(text)\n",
    "\n",
    "print(result)"
   ]
  },
  {
   "cell_type": "code",
   "execution_count": 39,
   "id": "15a5d923-c1a9-4f63-94dc-4da215e3fca0",
   "metadata": {},
   "outputs": [
    {
     "name": "stdout",
     "output_type": "stream",
     "text": [
      "       Country          Region  Happiness Rank  Happiness Score  \\\n",
      "0  Switzerland  Western Europe               1            7.587   \n",
      "1      Iceland  Western Europe               2            7.561   \n",
      "2      Denmark  Western Europe               3            7.527   \n",
      "3       Norway  Western Europe               4            7.522   \n",
      "4       Canada   North America               5            7.427   \n",
      "\n",
      "   Standard Error  Economy (GDP per Capita)   Family  \\\n",
      "0         0.03411                   1.39651  1.34951   \n",
      "1         0.04884                   1.30232  1.40223   \n",
      "2         0.03328                   1.32548  1.36058   \n",
      "3         0.03880                   1.45900  1.33095   \n",
      "4         0.03553                   1.32629  1.32261   \n",
      "\n",
      "   Health (Life Expectancy)  Freedom  Trust (Government Corruption)  \\\n",
      "0                   0.94143  0.66557                        0.41978   \n",
      "1                   0.94784  0.62877                        0.14145   \n",
      "2                   0.87464  0.64938                        0.48357   \n",
      "3                   0.88521  0.66973                        0.36503   \n",
      "4                   0.90563  0.63297                        0.32957   \n",
      "\n",
      "   Generosity  Dystopia Residual first_five_letters  \n",
      "0     0.29678            2.51738             Switze  \n",
      "1     0.43630            2.70201             Icelan  \n",
      "2     0.34139            2.49204             Denmar  \n",
      "3     0.34699            2.46531             Norway  \n",
      "4     0.45811            2.45176             Canada  \n"
     ]
    }
   ],
   "source": [
    "#Question 10- Use the github link below to read the data and create a dataframe. After creating the dataframe extract the first 6 letters of each country and store in the dataframe under a new column called first_five_letters.\n",
    "#Github Link-  https://raw.githubusercontent.com/dsrscientist/DSData/master/happiness_score_dataset.csv\n",
    "\n",
    "import pandas as pd\n",
    "\n",
    "url = \"https://raw.githubusercontent.com/dsrscientist/DSData/master/happiness_score_dataset.csv\"\n",
    "df = pd.read_csv(url)\n",
    "\n",
    "df['first_five_letters'] = df['Country'].str[:6]\n",
    "\n",
    "print(df.head())"
   ]
  },
  {
   "cell_type": "code",
   "execution_count": 41,
   "id": "13f89a80-50bb-4c8c-bcc3-d456604af368",
   "metadata": {},
   "outputs": [
    {
     "name": "stdout",
     "output_type": "stream",
     "text": [
      "True\n",
      "False\n"
     ]
    }
   ],
   "source": [
    "#Question 11- Write a Python program to match a string that contains only upper and lowercase letters, numbers, and underscores.\n",
    "import re\n",
    "\n",
    "def match_string(text):\n",
    "    pattern = r'^[A-Za-z0-9_]+$'\n",
    "\n",
    "    if re.match(pattern, text):\n",
    "        return True\n",
    "    else:\n",
    "        return False\n",
    "\n",
    "test_string_1 = \"Valid_String123\"\n",
    "test_string_2 = \"Invalid-String!\"\n",
    "\n",
    "print(match_string(test_string_1))\n",
    "print(match_string(test_string_2))"
   ]
  },
  {
   "cell_type": "code",
   "execution_count": 43,
   "id": "a0f561e9-8f99-4f3d-a435-d27e7f8fdb7f",
   "metadata": {},
   "outputs": [
    {
     "name": "stdout",
     "output_type": "stream",
     "text": [
      "True\n",
      "False\n"
     ]
    }
   ],
   "source": [
    "#Question 12- Write a Python program where a string will start with a specific number. \n",
    "import re\n",
    "\n",
    "def starts_with_number(text, number):\n",
    "    pattern = rf'^{number}'\n",
    "\n",
    "    if re.match(pattern, text):\n",
    "        return True\n",
    "    else:\n",
    "        return False\n",
    "\n",
    "test_string_1 = \"123StartWithNumber\"\n",
    "test_string_2 = \"NoNumberStart\"\n",
    "specific_number = \"123\"\n",
    "\n",
    "print(starts_with_number(test_string_1, specific_number))\n",
    "print(starts_with_number(test_string_2, specific_number))"
   ]
  },
  {
   "cell_type": "code",
   "execution_count": 45,
   "id": "9698b65d-5d9d-49b3-af44-79ba1480e913",
   "metadata": {},
   "outputs": [
    {
     "name": "stdout",
     "output_type": "stream",
     "text": [
      "192.168.1.1\n",
      "10.20.30.40\n"
     ]
    }
   ],
   "source": [
    "#Question 13- Write a Python program to remove leading zeros from an IP address\n",
    "import re\n",
    "\n",
    "def remove_leading_zeros(ip_address):\n",
    "    pattern = r'\\b0+(\\d)'\n",
    "\n",
    "    corrected_ip = re.sub(pattern, r'\\1', ip_address)\n",
    "\n",
    "    return corrected_ip\n",
    "\n",
    "test_ip_1 = \"192.168.001.001\"\n",
    "test_ip_2 = \"010.020.030.040\"\n",
    "\n",
    "print(remove_leading_zeros(test_ip_1))\n",
    "print(remove_leading_zeros(test_ip_2))"
   ]
  },
  {
   "cell_type": "code",
   "execution_count": 47,
   "id": "b78a7f6b-65d5-4393-b46e-6786f98e20d7",
   "metadata": {},
   "outputs": [
    {
     "name": "stdout",
     "output_type": "stream",
     "text": [
      "Extracted Date: August 15th 1947\n"
     ]
    }
   ],
   "source": [
    "#Question 14- Write a regular expression in python to match a date string in the form of Month name followed by day number and year stored in a text file.\n",
    "import re\n",
    "\n",
    "sample_text = \"On August 15th 1947 that India was declared independent from British colonialism, and the reins of control were handed over to the leaders of the Country.\"\n",
    "\n",
    "with open('sample_text.txt', 'w') as file:\n",
    "    file.write(sample_text)\n",
    "\n",
    "with open('sample_text.txt', 'r') as file:\n",
    "    text = file.read()\n",
    "\n",
    "pattern = r'\\b([A-Z][a-z]+) \\d{1,2}(st|nd|rd|th)? \\d{4}\\b'\n",
    "\n",
    "match = re.search(pattern, text)\n",
    "\n",
    "if match:\n",
    "    print(\"Extracted Date:\", match.group())\n",
    "else:\n",
    "    print(\"No date found in the given text.\")"
   ]
  },
  {
   "cell_type": "code",
   "execution_count": 1,
   "id": "09970a8e-1f96-4f22-9b95-5d09813aea25",
   "metadata": {},
   "outputs": [
    {
     "name": "stdout",
     "output_type": "stream",
     "text": [
      "'fox' was found in the text.\n",
      "'dog' was found in the text.\n",
      "'horse' was not found in the text.\n"
     ]
    }
   ],
   "source": [
    "#Question 15- Write a Python program to search some literals strings in a string. \n",
    "\n",
    "def search_literals(text, words):\n",
    "    found_words = {}\n",
    "\n",
    "    for word in words:\n",
    "        if word in text:\n",
    "            found_words[word] = True\n",
    "        else:\n",
    "            found_words[word] = False\n",
    "\n",
    "    return found_words\n",
    "\n",
    "text = 'The quick brown fox jumps over the lazy dog.'\n",
    "\n",
    "searched_words = ['fox', 'dog', 'horse']\n",
    "\n",
    "result = search_literals(text, searched_words)\n",
    "\n",
    "for word, found in result.items():\n",
    "    if found:\n",
    "        print(f\"'{word}' was found in the text.\")\n",
    "    else:\n",
    "        print(f\"'{word}' was not found in the text.\")"
   ]
  },
  {
   "cell_type": "code",
   "execution_count": 5,
   "id": "ecbbd2d5-719c-4fef-b08d-f26e2e235f62",
   "metadata": {},
   "outputs": [
    {
     "name": "stdout",
     "output_type": "stream",
     "text": [
      "'fox' found at position 16-19 in the text.\n"
     ]
    }
   ],
   "source": [
    "#Question 16- Write a Python program to search a literals string in a string and also find the location within the original string where the pattern occurs\n",
    "import re\n",
    "\n",
    "def search_literal_with_position(text, word):\n",
    "    pattern = rf'\\b{word}\\b'\n",
    "\n",
    "    match = re.search(pattern, text)\n",
    "\n",
    "    if match:\n",
    "        start_pos = match.start()\n",
    "        end_pos = match.end()\n",
    "        return f\"'{word}' found at position {start_pos}-{end_pos} in the text.\"\n",
    "    else:\n",
    "        return f\"'{word}' was not found in the text.\"\n",
    "\n",
    "text = 'The quick brown fox jumps over the lazy dog.'\n",
    "\n",
    "searched_word = 'fox'\n",
    "\n",
    "result = search_literal_with_position(text, searched_word)\n",
    "\n",
    "print(result)"
   ]
  },
  {
   "cell_type": "code",
   "execution_count": 7,
   "id": "4c7aa7f7-6bcd-4183-8dec-eda90c01299b",
   "metadata": {},
   "outputs": [
    {
     "name": "stdout",
     "output_type": "stream",
     "text": [
      "Occurences of 'exercises' in the text:\n",
      "Found at position 7-16\n",
      "Found at position 22-31\n",
      "Found at position 36-45\n"
     ]
    }
   ],
   "source": [
    "#Question 17- Write a Python program to find the substrings within a string.\n",
    "import re\n",
    "\n",
    "def find_substrings(text, pattern):\n",
    "    matches = [(match.start(), match.end()) for match in re.finditer(pattern, text)]\n",
    "\n",
    "    if matches:\n",
    "        return matches\n",
    "    else:\n",
    "        return f\"'{pattern}' was not found in the text.\"\n",
    "\n",
    "text = 'Python exercises, PHP exercises, C# exercises'\n",
    "\n",
    "pattern = 'exercises'\n",
    "\n",
    "result = find_substrings(text, pattern)\n",
    "\n",
    "print(f\"Occurences of '{pattern}' in the text:\")\n",
    "if isinstance(result, list):\n",
    "    for start, end in result:\n",
    "        print(f\"Found at position {start}-{end}\")\n",
    "else:\n",
    "    print(result)"
   ]
  },
  {
   "cell_type": "code",
   "execution_count": 9,
   "id": "1eca9946-c778-4731-94e6-d68c584cc8fc",
   "metadata": {},
   "outputs": [
    {
     "name": "stdout",
     "output_type": "stream",
     "text": [
      "Occurences of 'exercises' in the text:\n",
      "'exercises' found at position 7-16\n",
      "'exercises' found at position 22-31\n",
      "'exercises' found at position 36-45\n"
     ]
    }
   ],
   "source": [
    "#Question 18- Write a Python program to find the occurrence and position of the substrings within a string.\n",
    "import re\n",
    "\n",
    "def find_occurences_and_positions(text, pattern):\n",
    "    matches = [(match.group(), match.start(), match.end()) for match in re.finditer(pattern, text)]\n",
    "\n",
    "    if matches:\n",
    "        return matches\n",
    "    else:\n",
    "        return f\"'{pattern}' was not found in the text.\"\n",
    "\n",
    "text = 'Python exercises, PHP exercises, C# exercises'\n",
    "\n",
    "pattern = 'exercises'\n",
    "\n",
    "result = find_occurences_and_positions(text, pattern)\n",
    "\n",
    "print(f\"Occurences of '{pattern}' in the text:\")\n",
    "if isinstance(result, list):\n",
    "    for match, start, end in result:\n",
    "        print(f\"'{match}' found at position {start}-{end}\")\n",
    "else:\n",
    "    print(result)"
   ]
  },
  {
   "cell_type": "code",
   "execution_count": 11,
   "id": "8c4342e5-3e4d-4b57-81b2-46bcbaf08da8",
   "metadata": {},
   "outputs": [
    {
     "name": "stdout",
     "output_type": "stream",
     "text": [
      "Original date: 2024-08-18\n",
      "Converted date: 18-08-2024\n"
     ]
    }
   ],
   "source": [
    "#Question 19- Write a Python program to convert a date of yyyy-mm-dd format to dd-mm-yyyy format.\n",
    "def convert_date_format(date_str):\n",
    "    year, month, day = date_str.split('-')\n",
    "\n",
    "    new_date_format = f\"{day}-{month}-{year}\"\n",
    "\n",
    "    return new_date_format\n",
    "\n",
    "date_str = \"2024-08-18\"\n",
    "converted_date = convert_date_format(date_str)\n",
    "\n",
    "print(f\"Original date: {date_str}\")\n",
    "print(f\"Converted date: {converted_date}\")"
   ]
  },
  {
   "cell_type": "code",
   "execution_count": 13,
   "id": "6c93e5b9-d5f9-45a3-b840-1637aa84ddc7",
   "metadata": {},
   "outputs": [
    {
     "name": "stdout",
     "output_type": "stream",
     "text": [
      "['01.12', '145.8', '3.01', '27.25', '0.25']\n"
     ]
    }
   ],
   "source": [
    "#Question 20- Create a function in python to find all decimal numbers with a precision of 1 or 2 in a string. The use of the re.compile() method is mandatory.\n",
    "import re\n",
    "\n",
    "def find_decimal_numbers(text):\n",
    "    pattern = re.compile(r'\\b\\d+\\.\\d{1,2}\\b')\n",
    "    matches = pattern.findall(text)\n",
    "    return matches\n",
    "\n",
    "text = \"01.12 0132.123 2.31875 145.8 3.01 27.25 0.25\"\n",
    "\n",
    "result = find_decimal_numbers(text)\n",
    "\n",
    "print(result)"
   ]
  },
  {
   "cell_type": "code",
   "execution_count": 15,
   "id": "2939e383-1779-46f6-be04-5f97b00e5d8d",
   "metadata": {},
   "outputs": [
    {
     "name": "stdout",
     "output_type": "stream",
     "text": [
      "Number: '123' found at position 20-23\n",
      "Number: '45678' found at position 44-49\n"
     ]
    }
   ],
   "source": [
    "#Question 21- Write a Python program to separate and print the numbers and their position of a given string.\n",
    "import re\n",
    "\n",
    "def find_numbers_and_positions(text):\n",
    "    pattern = re.compile(r'\\d+')\n",
    "    matches = [(match.group(), match.start(), match.end()) for match in re.finditer(pattern, text)]\n",
    "    return matches\n",
    "\n",
    "text = \"The house number is 123 and the zip code is 45678.\"\n",
    "\n",
    "result = find_numbers_and_positions(text)\n",
    "\n",
    "for match, start, end in result:\n",
    "    print(f\"Number: '{match}' found at position {start}-{end}\")"
   ]
  },
  {
   "cell_type": "code",
   "execution_count": 19,
   "id": "029c2ae9-3f40-4915-86a3-1fcdaf79cd36",
   "metadata": {},
   "outputs": [
    {
     "name": "stdout",
     "output_type": "stream",
     "text": [
      "950\n"
     ]
    }
   ],
   "source": [
    "#Question 22- Write a regular expression in python program to extract maximum/largest numeric value from a string.\n",
    "import re\n",
    "\n",
    "def extract_max_numeric_value(text):\n",
    "    pattern = re.compile(r'\\d+')\n",
    "    numbers = pattern.findall(text)\n",
    "    numbers = list(map(int, numbers))\n",
    "    return max(numbers)\n",
    "\n",
    "text = 'My marks in each semester are: 947, 896, 926, 524, 734, 950, 642'\n",
    "\n",
    "max_value = extract_max_numeric_value(text)\n",
    "\n",
    "print(max_value)"
   ]
  },
  {
   "cell_type": "code",
   "execution_count": 21,
   "id": "b6a469c7-2d8d-4488-973d-eb274b15aaf2",
   "metadata": {},
   "outputs": [
    {
     "name": "stdout",
     "output_type": "stream",
     "text": [
      "Output: Regular Expression Is An Important Topic In Python\n"
     ]
    }
   ],
   "source": [
    "#Question 23- Create a function in python to insert spaces between words starting with capital letters.\n",
    "import re\n",
    "\n",
    "def insert_spaces(text):\n",
    "    spaced_text = re.sub(r'(?<=[a-z])(?=[A-Z])', ' ', text)\n",
    "    return spaced_text\n",
    "\n",
    "text = \"RegularExpressionIsAnImportantTopicInPython\"\n",
    "\n",
    "result = insert_spaces(text)\n",
    "\n",
    "print(\"Output:\", result)"
   ]
  },
  {
   "cell_type": "code",
   "execution_count": 23,
   "id": "4d55a200-f199-4088-a6f4-f0a8c0c8bbe8",
   "metadata": {},
   "outputs": [
    {
     "name": "stdout",
     "output_type": "stream",
     "text": [
      "Sequences found: ['Hello', 'World', 'This', 'Test', 'Regular', 'Expressions']\n"
     ]
    }
   ],
   "source": [
    "#Question 24- Python regex to find sequences of one upper case letter followed by lower case letters\n",
    "import re\n",
    "\n",
    "def find_sequences(text):\n",
    "    pattern = re.compile(r'[A-Z][a-z]*')\n",
    "    matches = pattern.findall(text)\n",
    "    return matches\n",
    "\n",
    "text = \"Hello World! This is a Test of RegularExpressions.\"\n",
    "\n",
    "result = find_sequences(text)\n",
    "\n",
    "print(\"Sequences found:\", result)"
   ]
  },
  {
   "cell_type": "code",
   "execution_count": 25,
   "id": "e9f1c317-1382-4211-8d86-4bce76054c0e",
   "metadata": {},
   "outputs": [
    {
     "name": "stdout",
     "output_type": "stream",
     "text": [
      "Hello hello world\n"
     ]
    }
   ],
   "source": [
    "#Question 25- Write a Python program to remove continuous duplicate words from Sentence using Regular Expression.\n",
    "import re\n",
    "\n",
    "def remove_continuous_duplicates(text):\n",
    "    pattern = re.compile(r'\\b(\\w+)\\s+\\1\\b')\n",
    "\n",
    "    result = re.sub(pattern, r'\\1', text)\n",
    "\n",
    "    return result\n",
    "\n",
    "text = \"Hello hello world world\"\n",
    "\n",
    "output = remove_continuous_duplicates(text)\n",
    "\n",
    "print(output)"
   ]
  },
  {
   "cell_type": "code",
   "execution_count": 27,
   "id": "bfefaf52-55d7-45bb-9db2-88a280ec811f",
   "metadata": {},
   "outputs": [
    {
     "name": "stdout",
     "output_type": "stream",
     "text": [
      "'HelloWorld123' ends with an alphanumeric character: True\n",
      "'Test123!' ends with an alphanumeric character: False\n",
      "'Python3' ends with an alphanumeric character: True\n",
      "'EndWithSpace ' ends with an alphanumeric character: False\n"
     ]
    }
   ],
   "source": [
    "#Question 26-  Write a python program using RegEx to accept string ending with alphanumeric character.\n",
    "import re\n",
    "\n",
    "def is_valid_string(text):\n",
    "    pattern = re.compile(r'.*[a-zA-Z0-9]$')\n",
    "\n",
    "    if pattern.match(text):\n",
    "        return True\n",
    "    else:\n",
    "        return False\n",
    "\n",
    "strings = [\"HelloWorld123\", \"Test123!\", \"Python3\", \"EndWithSpace \"]\n",
    "\n",
    "for s in strings:\n",
    "    print(f\"'{s}' ends with an alphanumeric character: {is_valid_string(s)}\")"
   ]
  },
  {
   "cell_type": "code",
   "execution_count": 29,
   "id": "6c03a529-685d-44ca-ae89-6ef62adf4aaa",
   "metadata": {},
   "outputs": [
    {
     "name": "stdout",
     "output_type": "stream",
     "text": [
      "['#Doltiwal', '#xyzabc', '#Demonetization']\n"
     ]
    }
   ],
   "source": [
    "#Question 27-Write a python program using RegEx to extract the hashtags.\n",
    "import re\n",
    "\n",
    "def extract_hashtags(text):\n",
    "    pattern = re.compile(r'#\\w+')\n",
    "    hashtags = pattern.findall(text)\n",
    "    return hashtags\n",
    "\n",
    "text = \"\"\"RT @kapil_kausik: #Doltiwal I mean #xyzabc is \"hurt\" by #Demonetization as the same has rendered USELESS <ed><U+00A0><U+00BD><ed><U+00B1><U+0089> \"acquired funds\" No wo\"\"\"\n",
    "\n",
    "output = extract_hashtags(text)\n",
    "\n",
    "print(output)"
   ]
  },
  {
   "cell_type": "code",
   "execution_count": 40,
   "id": "5ed49580-9fbe-4e7a-870d-860f3466156d",
   "metadata": {},
   "outputs": [
    {
     "name": "stdout",
     "output_type": "stream",
     "text": [
      "@Jags123456 Bharat band on 28??<ed><ed>Those who are protesting #demonetization are all different party leaders\n"
     ]
    }
   ],
   "source": [
    "#Question 28- Write a python program using RegEx to remove <U+..> like symbols\n",
    "import re\n",
    "\n",
    "def remove_unicode_symbols(text):\n",
    "    pattern = re.compile(r'<U\\+\\w{4}>')\n",
    "    cleaned_text = re.sub(pattern, '',text)\n",
    "    return cleaned_text\n",
    "\n",
    "text = \"@Jags123456 Bharat band on 28??<ed><U+00A0><U+00BD><ed><U+00B8><U+0082>Those who are protesting #demonetization are all different party leaders\"\n",
    "\n",
    "output = remove_unicode_symbols(text)\n",
    "\n",
    "print(output)"
   ]
  },
  {
   "cell_type": "code",
   "execution_count": 61,
   "id": "958aab68-8ebf-4727-8045-ed727aff338e",
   "metadata": {},
   "outputs": [
    {
     "name": "stdout",
     "output_type": "stream",
     "text": [
      "Extracted Dates: ['12-09-1992', '15-12-1999']\n"
     ]
    }
   ],
   "source": [
    "#Question 29- Write a python program to extract dates from the text stored in the text file.\n",
    "import re\n",
    "\n",
    "sample_text = \"Ron was born on 12-09-1992 and he was admitted to school 15-12-1999.\"\n",
    "filename = 'sample.txt'\n",
    "\n",
    "with open(filename, 'w') as file:\n",
    "     file.write(sample_text)\n",
    "\n",
    "def extract_dates(filename):\n",
    "    date_pattern = re.compile(r'\\b\\d{2}-\\d{2}-\\d{4}\\b')\n",
    "\n",
    "    with open(filename, 'r') as file:\n",
    "        text = file.read()\n",
    "\n",
    "    dates = date_pattern.findall(text)\n",
    "\n",
    "    return dates\n",
    "\n",
    "extracted_dates = extract_dates(filename)\n",
    "print(\"Extracted Dates:\", extracted_dates)"
   ]
  },
  {
   "cell_type": "code",
   "execution_count": 65,
   "id": "9477bf0f-0629-46b4-9f29-9cd3973ddade",
   "metadata": {},
   "outputs": [
    {
     "name": "stdout",
     "output_type": "stream",
     "text": [
      "Output: following example creates ArrayList a capacity elements.4 elements added ArrayList ArrayList trimmed accordingly.\n"
     ]
    }
   ],
   "source": [
    "#Question 30- Create a function in python to remove all words from a string of length between 2 and 4.The use of the re.compile() method is mandatory.\n",
    "import re\n",
    "\n",
    "def remove_words(text):\n",
    "    pattern = re.compile(r'\\b\\w{2,4}\\b')\n",
    "    result = pattern.sub('', text)\n",
    "    result = re.sub(r'\\s+', ' ', result).strip()\n",
    "    return result \n",
    "\n",
    "sample_text = (\"The following example creates an ArrayList with a capacity of 50 elements.\"\n",
    "               \"4 elements are then added to the ArrayList and the ArrayList is trimmed accordingly.\")\n",
    "\n",
    "output_text = remove_words(sample_text)\n",
    "print(\"Output:\", output_text)"
   ]
  },
  {
   "cell_type": "code",
   "execution_count": null,
   "id": "2da4f419-afe4-4eff-9d9b-9f1819fb8ce9",
   "metadata": {},
   "outputs": [],
   "source": []
  }
 ],
 "metadata": {
  "kernelspec": {
   "display_name": "Python 3 (ipykernel)",
   "language": "python",
   "name": "python3"
  },
  "language_info": {
   "codemirror_mode": {
    "name": "ipython",
    "version": 3
   },
   "file_extension": ".py",
   "mimetype": "text/x-python",
   "name": "python",
   "nbconvert_exporter": "python",
   "pygments_lexer": "ipython3",
   "version": "3.12.4"
  }
 },
 "nbformat": 4,
 "nbformat_minor": 5
}
